{
 "cells": [
  {
   "attachments": {},
   "cell_type": "markdown",
   "metadata": {},
   "source": [
    "# Exercises week 3.1"
   ]
  },
  {
   "attachments": {},
   "cell_type": "markdown",
   "metadata": {},
   "source": [
    "\n",
    "## Structure\n",
    "\n",
    "Each Exercise contains 3 different types of cells, 1 for the description of the exercise and the place where you need to write your code at the locations `#here your code`. Then there is the cell with the hint code, if you need help with the exercise because its not clear what to do or if you need an extra suggestion run the hint cell. At last we have the test cell, if you want to test if your solution is the correct one run this cell and it will tell you if you passed the exercise or not."
   ]
  },
  {
   "attachments": {},
   "cell_type": "markdown",
   "metadata": {},
   "source": [
    "### Importing modules"
   ]
  },
  {
   "cell_type": "code",
   "execution_count": 14,
   "metadata": {},
   "outputs": [],
   "source": [
    "import numpy as np"
   ]
  },
  {
   "attachments": {},
   "cell_type": "markdown",
   "metadata": {},
   "source": [
    "\n",
    "## Exercise 3.1.1 Matrix Multiplication\n",
    "Given function `matixmul(arr1, arr2)` return the result of a matrix multiplication"
   ]
  },
  {
   "cell_type": "code",
   "execution_count": 17,
   "metadata": {},
   "outputs": [],
   "source": [
    "def matrixmul(arr1, arr2):\n",
    "    return arr1 @ arr2"
   ]
  },
  {
   "attachments": {},
   "cell_type": "markdown",
   "metadata": {},
   "source": [
    "\n",
    "### Hint Matrix Multiplication\n",
    "Need a hint run the following cell"
   ]
  },
  {
   "cell_type": "code",
   "execution_count": 16,
   "metadata": {},
   "outputs": [
    {
     "name": "stdout",
     "output_type": "stream",
     "text": [
      "you can use the @ operator to do the matmul\n"
     ]
    }
   ],
   "source": [
    "from testexercises import hint_matrixmul\n",
    "hint_matrixmul()"
   ]
  },
  {
   "attachments": {},
   "cell_type": "markdown",
   "metadata": {},
   "source": [
    "### Test Matrix Multiplication\n",
    "Want to check if your code is correct? Run the following cell!"
   ]
  },
  {
   "cell_type": "code",
   "execution_count": 18,
   "metadata": {},
   "outputs": [
    {
     "name": "stdout",
     "output_type": "stream",
     "text": [
      "=========>\n",
      "\u001b[92mAll tests passed!!!\u001b[0m\n"
     ]
    }
   ],
   "source": [
    "from testexercises import test_matrixmul\n",
    "test_matrixmul(matrixmul)"
   ]
  },
  {
   "attachments": {},
   "cell_type": "markdown",
   "metadata": {},
   "source": [
    "## Exercise 3.1.2 Create Matrix\n",
    "given function `matrix3x3()` return a 3x3 numpy matrix with values ranging from 2 to 10. Like:<br>\n",
    "[[ 2  3  4]                                                        \n",
    " [ 5  6  7]                                                             \n",
    " [ 8  9 10]]"
   ]
  },
  {
   "cell_type": "code",
   "execution_count": 3,
   "metadata": {},
   "outputs": [
    {
     "name": "stdout",
     "output_type": "stream",
     "text": [
      "[[1, 2, 3], [2, 4, 6], [3, 6, 9]]\n"
     ]
    }
   ],
   "source": [
    "def matrix3x3():\n",
    "    matrix = [\n",
    "        [], \n",
    "        [], \n",
    "        [],\n",
    "    ]\n",
    "\n",
    "    counter = 2\n",
    "\n",
    "    for i in range(3):\n",
    "        for j in range(3):\n",
    "            matrix[i].append(counter)\n",
    "            counter += 1\n",
    "    \n",
    "    return matrix"
   ]
  },
  {
   "attachments": {},
   "cell_type": "markdown",
   "metadata": {},
   "source": [
    "### Hint create matrix\n",
    "Need a hint run the following cell"
   ]
  },
  {
   "cell_type": "code",
   "execution_count": null,
   "metadata": {},
   "outputs": [],
   "source": [
    "from testexercises import hint_matrix3x3\n",
    "hint_matrix3x3()"
   ]
  },
  {
   "attachments": {},
   "cell_type": "markdown",
   "metadata": {},
   "source": [
    "### Test create matrix\n",
    "Want to check if your code is correct? Run the following cell!"
   ]
  },
  {
   "cell_type": "code",
   "execution_count": 26,
   "metadata": {},
   "outputs": [
    {
     "name": "stdout",
     "output_type": "stream",
     "text": [
      "=========>\n",
      "\u001b[92mAll tests passed!!!\u001b[0m\n"
     ]
    }
   ],
   "source": [
    "from testexercises import test_matrix3x3\n",
    "test_matrix3x3(matrix3x3)"
   ]
  },
  {
   "attachments": {},
   "cell_type": "markdown",
   "metadata": {},
   "source": [
    "## Exercise 3.1.3 append to array\n",
    "Given function `append_array(arr1, arr2)` append `arr2` to `arr1` and return the result"
   ]
  },
  {
   "cell_type": "code",
   "execution_count": 15,
   "metadata": {},
   "outputs": [
    {
     "name": "stdout",
     "output_type": "stream",
     "text": [
      "[1 2 3 4 5 6]\n"
     ]
    }
   ],
   "source": [
    "def append_array(arr1, arr2):\n",
    "    return np.append(arr1, arr2)"
   ]
  },
  {
   "attachments": {},
   "cell_type": "markdown",
   "metadata": {},
   "source": [
    "### Hint append to array\n",
    "Need a hint run the following cell"
   ]
  },
  {
   "cell_type": "code",
   "execution_count": null,
   "metadata": {},
   "outputs": [],
   "source": [
    "from testexercises import hint_append_array\n",
    "hint_append_array()"
   ]
  },
  {
   "attachments": {},
   "cell_type": "markdown",
   "metadata": {},
   "source": [
    "### Test append to array\n",
    "Want to check if your code is correct? Run the following cell!"
   ]
  },
  {
   "cell_type": "code",
   "execution_count": 16,
   "metadata": {},
   "outputs": [
    {
     "name": "stdout",
     "output_type": "stream",
     "text": [
      "=========>\n",
      "\u001b[92mAll tests passed!!!\u001b[0m\n"
     ]
    }
   ],
   "source": [
    "from testexercises import test_append_array\n",
    "test_append_array(append_array)"
   ]
  },
  {
   "attachments": {},
   "cell_type": "markdown",
   "metadata": {},
   "source": [
    "## Exercise 3.1.4 checkerboard pattern (hard)\n",
    "Given function `checkerboard_pattern(x, y)` where `x` is the width of the board and `y` is the height of the board. the pattern needs to be the following:<br>\n",
    "if `x = 4` and `y = 4`. the pattern would look like:<br>\n",
    "\n",
    "[<br>\n",
    "[0, 1, 0, 1]<br>\n",
    "[1, 0, 1, 0]<br>\n",
    "[0, 1, 0, 1]<br>\n",
    "[1, 0, 1, 0]<br>\n",
    "] \n",
    "\n",
    "and if `x = 8` and `y = 6`:<br>\n",
    "[<br>\n",
    "[0, 1, 0, 1, 0, 1, 0, 1]<br>\n",
    "[1, 0, 1, 0, 1, 0, 1, 0]<br>\n",
    "[0, 1, 0, 1, 0, 1, 0, 1]<br>\n",
    "[1, 0, 1, 0, 1, 0, 1, 0]<br>\n",
    "[0, 1, 0, 1, 0, 1, 0, 1]<br>\n",
    "[1, 0, 1, 0, 1, 0, 1, 0]<br>\n",
    "]<br>\n",
    "\n",
    "make sure you return the matrix as a numpy array"
   ]
  },
  {
   "cell_type": "code",
   "execution_count": 48,
   "metadata": {},
   "outputs": [
    {
     "name": "stdout",
     "output_type": "stream",
     "text": [
      "[0, 1, 0, 1, 0, 1, 0]\n",
      "[1, 0, 1, 0, 1, 0, 1]\n",
      "[0, 1, 0, 1, 0, 1, 0]\n",
      "[1, 0, 1, 0, 1, 0, 1]\n",
      "[0, 1, 0, 1, 0, 1, 0]\n",
      "[1, 0, 1, 0, 1, 0, 1]\n",
      "[0, 1, 0, 1, 0, 1, 0]\n"
     ]
    }
   ],
   "source": [
    "def checkerboard_pattern(x, y):\n",
    "    board = []\n",
    "\n",
    "    for row in range(y):\n",
    "        board.append([])\n",
    "        for column in range(x):\n",
    "            board[row].append((row+column) % 2)\n",
    "    \n",
    "    return board\n",
    "\n",
    "board = checkerboard_pattern(7, 7)\n",
    "for row in board:\n",
    "    print(row)"
   ]
  },
  {
   "attachments": {},
   "cell_type": "markdown",
   "metadata": {},
   "source": [
    "### Hint checkerboard pattern\n",
    "Need a hint run the following cell"
   ]
  },
  {
   "cell_type": "code",
   "execution_count": null,
   "metadata": {},
   "outputs": [],
   "source": [
    "from testexercises import hint_checkerboard_pattern\n",
    "hint_checkerboard_pattern()"
   ]
  },
  {
   "attachments": {},
   "cell_type": "markdown",
   "metadata": {},
   "source": [
    "### Test checkerboard pattern\n",
    "Want to check if your code is correct? Run the following cell!"
   ]
  },
  {
   "cell_type": "code",
   "execution_count": 49,
   "metadata": {},
   "outputs": [
    {
     "name": "stdout",
     "output_type": "stream",
     "text": [
      "=========>\n",
      "\u001b[92mAll tests passed!!!\u001b[0m\n"
     ]
    }
   ],
   "source": [
    "from testexercises import test_checkerboard_pattern\n",
    "test_checkerboard_pattern(checkerboard_pattern)"
   ]
  },
  {
   "attachments": {},
   "cell_type": "markdown",
   "metadata": {},
   "source": []
  }
 ],
 "metadata": {
  "kernelspec": {
   "display_name": "Python 3",
   "language": "python",
   "name": "python3"
  },
  "language_info": {
   "codemirror_mode": {
    "name": "ipython",
    "version": 3
   },
   "file_extension": ".py",
   "mimetype": "text/x-python",
   "name": "python",
   "nbconvert_exporter": "python",
   "pygments_lexer": "ipython3",
   "version": "3.12.5"
  },
  "orig_nbformat": 4
 },
 "nbformat": 4,
 "nbformat_minor": 2
}
